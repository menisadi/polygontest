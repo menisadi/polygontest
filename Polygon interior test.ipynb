{
 "cells": [
  {
   "cell_type": "markdown",
   "id": "e07e0289",
   "metadata": {},
   "source": [
    "## The settting\n",
    "Find if a 2D point is contained within a 2D convex polygon  \n",
    "The input is a point given by (x0, y0)  \n",
    "the convex polygon is given by an ordered list of [[x1, y1], [x1, y2] ... [x_n, y_n]]  "
   ]
  },
  {
   "cell_type": "code",
   "execution_count": 8,
   "id": "18478f6c",
   "metadata": {},
   "outputs": [],
   "source": [
    "import numpy as np\n",
    "import matplotlib.pyplot as plt"
   ]
  },
  {
   "cell_type": "code",
   "execution_count": 16,
   "id": "268113cd",
   "metadata": {},
   "outputs": [],
   "source": [
    "from scipy.spatial import ConvexHull, convex_hull_plot_2d"
   ]
  },
  {
   "cell_type": "markdown",
   "id": "3cbbd9d8",
   "metadata": {},
   "source": [
    "## Solution"
   ]
  },
  {
   "cell_type": "code",
   "execution_count": 53,
   "id": "1c26d8fe",
   "metadata": {},
   "outputs": [],
   "source": [
    "def is_inside_polygon(pvertices, point):\n",
    "    side = None\n",
    "    x0, y0 = point\n",
    "    for i in range(len(pvertices)):\n",
    "        x1,y1 = pvertices[i] # unpack\n",
    "        x2,y2 = pvertices[(i+1) % len(pvertices)] # use modulo to account for the last index\n",
    "        x_edge, y_edge = (x2 - x1, y2 - y1) # as the first point is our \"origin\" we move the other two by substracting it\n",
    "        x0_moved, y0_moved = (x0 - x1, y0 - y1)\n",
    "        current_side = x_edge*y0_moved - y_edge*x0_moved < 0 # check side using cross product\n",
    "        if side is not None and side != current_side:\n",
    "            return False\n",
    "        side = current_side\n",
    "    return True"
   ]
  },
  {
   "cell_type": "markdown",
   "id": "302475c8",
   "metadata": {},
   "source": [
    "## Simple test"
   ]
  },
  {
   "cell_type": "code",
   "execution_count": 78,
   "id": "40f0dc44",
   "metadata": {},
   "outputs": [],
   "source": [
    "size = 17\n",
    "limit = 30\n",
    "# Use scipy to generate random convex polygon from a set of random points\n",
    "random_points = np.random.randint(0,limit, (size,2))\n",
    "polygon = ConvexHull(random_points)\n",
    "# print(random_points[polygon.vertices])"
   ]
  },
  {
   "cell_type": "code",
   "execution_count": 72,
   "id": "4e0fa40c",
   "metadata": {},
   "outputs": [],
   "source": [
    "not_polygon_indices = [p for p in range(size) if p not in polygon.vertices]\n",
    "\n",
    "polygon_vertices = random_points[polygon.vertices]\n",
    "positive_test_point = random_points[np.random.choice(not_polygon_indices)]\n",
    "random_test_point = np.random.randint(0,30,(1,2))[0]"
   ]
  },
  {
   "cell_type": "code",
   "execution_count": 73,
   "id": "e6a21958",
   "metadata": {},
   "outputs": [
    {
     "data": {
      "text/plain": [
       "[<matplotlib.lines.Line2D at 0x1c05b6a99c8>]"
      ]
     },
     "execution_count": 73,
     "metadata": {},
     "output_type": "execute_result"
    },
    {
     "data": {
      "image/png": "[encoded data removed]",
      "text/plain": [
       "<Figure size 432x288 with 1 Axes>"
      ]
     },
     "metadata": {
      "needs_background": "light"
     },
     "output_type": "display_data"
    }
   ],
   "source": [
    "# Plot the vertices (yellow), \n",
    "# the positive test (green) \n",
    "# and the random test (black)\n",
    "plt.scatter(random_points[:,0], random_points[:,1])\n",
    "plt.scatter(random_points[polygon.vertices][:,0], random_points[polygon.vertices][:,1])\n",
    "plt.plot(positive_test_point[0], positive_test_point[1], marker=\"o\", markersize=10, markeredgecolor=\"green\", markerfacecolor=\"green\")\n",
    "plt.plot(random_test_point[0], random_test_point[1], marker=\"o\", markersize=10, markeredgecolor=\"black\", markerfacecolor=\"black\")"
   ]
  },
  {
   "cell_type": "code",
   "execution_count": 77,
   "id": "84e755c9",
   "metadata": {},
   "outputs": [
    {
     "name": "stdout",
     "output_type": "stream",
     "text": [
      "Is the positive point inside? True\n",
      "Is the random point inside? False\n"
     ]
    }
   ],
   "source": [
    "print(f\"Is the positive point inside? {is_inside_polygon(polygon_vertices, positive_test_point)}\")\n",
    "print(f\"Is the random point inside? {is_inside_polygon(polygon_vertices, random_test_point)}\")"
   ]
  },
  {
   "cell_type": "code",
   "execution_count": null,
   "id": "6a6639d6",
   "metadata": {},
   "outputs": [],
   "source": []
  }
 ],
 "metadata": {
  "kernelspec": {
   "display_name": "Python 3 (ipykernel)",
   "language": "python",
   "name": "python3"
  },
  "language_info": {
   "codemirror_mode": {
    "name": "ipython",
    "version": 3
   },
   "file_extension": ".py",
   "mimetype": "text/x-python",
   "name": "python",
   "nbconvert_exporter": "python",
   "pygments_lexer": "ipython3",
   "version": "3.7.7"
  }
 },
 "nbformat": 4,
 "nbformat_minor": 5
}
